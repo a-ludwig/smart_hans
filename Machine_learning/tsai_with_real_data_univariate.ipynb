{
 "cells": [
  {
   "cell_type": "code",
   "execution_count": null,
   "metadata": {},
   "outputs": [
    {
     "ename": "",
     "evalue": "",
     "output_type": "error",
     "traceback": [
      "\u001b[1;31mDer Kernel konnte nicht gestartet werden. \n",
      "\u001b[1;31mspawn /conda ENOENT. \n",
      "\u001b[1;31mWeitere Informationen finden Sie im Jupyter-<a href='command:jupyter.viewOutput'>Protokoll</a>."
     ]
    }
   ],
   "source": [
    "from tsai.all import *\n",
    "import pandas as pd\n",
    "from datenverarbeitung.dataloader import dataloader\n",
    "CUDA_LAUNCH_BLOCKING=1\n",
    "\n",
    "num_scenario = 1\n",
    "dl = dataloader(scenario= num_scenario, path=\"/home/adi/cloudy_adlu/smart_hans/AP2/Daten/single_file_for_testing\", nr_taps=1, move_window_by=-10, feature_list=[\"pitch\"])\n",
    "train, test= dl.get_train_test(frac = 0.8, seed = 0)\n",
    "\n",
    "X_test, y_test = df2xy(test, target_col='target')\n",
    "X_train, y_train = df2xy(train, target_col='target')\n",
    "\n",
    "X, y, splits = combine_split_data([X_train, X_test], [y_train, y_test])\n",
    "\n",
    "# X_train, y_train = df2xy(train_df, target_col='target')\n",
    "# np.shape(X)\n",
    "# test_eq(X_test.shape, (60, 1, 40))\n",
    "# test_eq(y_test.shape, (60, ))\n",
    "\n",
    "tfms  = [None, [Categorize()]]\n",
    "dsets = TSDatasets(X, y, tfms=tfms, splits=splits, inplace=True)\n",
    "dsets\n",
    "\n",
    "dls = TSDataLoaders.from_dsets(dsets.train, dsets.valid, bs=[64, 128], batch_tfms=[TSStandardize()], num_workers=0)\n",
    "\n",
    "dls.show_batch(sharey=True)"
   ]
  },
  {
   "cell_type": "code",
   "execution_count": null,
   "metadata": {},
   "outputs": [],
   "source": [
    "scenario_name_stage0 = \"scenario_{}_stage0\".format(num_scenario)\n",
    "model = InceptionTime(dls.vars, dls.c)\n",
    "learn = ts_learner(dls, model, metrics=accuracy, train_metrics=True)\n",
    "learn.save(scenario_name_stage0)"
   ]
  },
  {
   "cell_type": "code",
   "execution_count": null,
   "metadata": {},
   "outputs": [],
   "source": [
    "learn.load(scenario_name_stage0)\n",
    "learn.lr_find()"
   ]
  },
  {
   "cell_type": "code",
   "execution_count": null,
   "metadata": {},
   "outputs": [],
   "source": [
    "scenario_name_stage1 = scenario_name_stage0.replace(\"0\",\"1\")\n",
    "learn.fit_one_cycle(100, lr_max=1e-3)\n",
    "learn.save(scenario_name_stage1)"
   ]
  },
  {
   "cell_type": "code",
   "execution_count": null,
   "metadata": {},
   "outputs": [],
   "source": [
    "learn.recorder.plot_metrics()"
   ]
  },
  {
   "cell_type": "code",
   "execution_count": null,
   "metadata": {},
   "outputs": [],
   "source": [
    "learn.show_results()"
   ]
  },
  {
   "cell_type": "code",
   "execution_count": null,
   "metadata": {},
   "outputs": [],
   "source": [
    "learn.show_probas()\n",
    "#was sagt probability aus? accuracy vs probability?"
   ]
  },
  {
   "cell_type": "code",
   "execution_count": null,
   "metadata": {},
   "outputs": [],
   "source": [
    "learn.plot_confusion_matrix()"
   ]
  },
  {
   "cell_type": "code",
   "execution_count": null,
   "metadata": {},
   "outputs": [],
   "source": [
    "learn.plot_top_losses(X[splits[1]], y[splits[1]], largest=True)"
   ]
  }
 ],
 "metadata": {
  "kernelspec": {
   "display_name": "Python 3.9.12 ('smart_hans')",
   "language": "python",
   "name": "python3"
  },
  "language_info": {
   "codemirror_mode": {
    "name": "ipython",
    "version": 3
   },
   "file_extension": ".py",
   "mimetype": "text/x-python",
   "name": "python",
   "nbconvert_exporter": "python",
   "pygments_lexer": "ipython3",
   "version": "3.9.13"
  },
  "orig_nbformat": 4,
  "vscode": {
   "interpreter": {
    "hash": "039a5d5057de32f23cd8ec43f7c50a7d9b3d25c0c9023f423cd70c98cd8d8903"
   }
  }
 },
 "nbformat": 4,
 "nbformat_minor": 2
}
